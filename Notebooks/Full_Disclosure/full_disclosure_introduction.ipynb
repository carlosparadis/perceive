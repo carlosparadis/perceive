{
 "cells": [
  {
   "cell_type": "markdown",
   "metadata": {
    "deletable": true,
    "editable": true
   },
   "source": [
    "# Introduction\n",
    "\n",
    "The PERCEIVE project seeks to proactively identify upcoming cybersecurity threats through textual similarity. Social network analysis, however, can be used to partition textual content, and hence serve as social-oriented word selection criteria, for defining corpus' documents. \n",
    "\n",
    "The subject of this notebook, the [Full Disclosure (FD) mailing list](http://seclists.org/fulldisclosure/) is a \"public, vendor-neutral forum for detailed discussion of vulnerabilities and exploitation techniques, as well as tools, papers, news, and events of interest to the community.\""
   ]
  },
  {
   "cell_type": "markdown",
   "metadata": {},
   "source": [
    "## Problem Statement\n",
    "\n",
    "Although cybersecurity email mailing lists provide a rich source to identify emerging concepts, it contains a large amount of content that is irrelevant to the project's purpose, including but not limited to:\n",
    "\n",
    " * conference invitations[[1](http://seclists.org/fulldisclosure/2017/Feb/6)]\n",
    " * vendor announcements[[2](http://seclists.org/fulldisclosure/2016/Dec/48)]\n",
    " * extensive conversations on security topics[[3](http://seclists.org/fulldisclosure/2004/Jul/1026)]\n",
    " * a significant amount of trolling[[4](http://seclists.org/fulldisclosure/2008/Apr/96)] \n",
    " * and nonsense[[5](http://seclists.org/fulldisclosure/2009/Jul/289)] [[6](http://seclists.org/fulldisclosure/2004/Jul/796)].\n",
    "\n",
    "As some of the irrelevant content can be strictly tied to it's producer, i.e., the **authors** of the **e-mail replies**, Social network analysis provides an interesting opportunity for the isolation of relevant discussion topics in order to **filter** non-related vulnerability content. "
   ]
  },
  {
   "cell_type": "markdown",
   "metadata": {},
   "source": [
    "## Network Definition\n",
    "\n",
    "Earlier in this project, the FD email lists were developed into networks of edges and nodes, divided by year. The original csv files are available [online](https://mega.nz/#F!CUEByR5I!GY56GzTpYz68IlTqj4aQNQ!fR8jFLxL). The networks were imported into [Gephi](https://gephi.org/) to create a series of [visualization graphics](\n",
    "https://mega.nz/#F!btdgFBID!hktkVrhZB5etOBBVLrgTrA).\n",
    "\n",
    "In the FD graphs, nodes represent either documents (i.e., emails) or authors. Edges are directed, representing authorship and replies; edge weight indicates an increasing number of replies. In the Gephi graphics, blue nodes represent authors and red nodes represent documents. \n"
   ]
  },
  {
   "cell_type": "markdown",
   "metadata": {},
   "source": [
    "# Full Disclosure Exploration"
   ]
  },
  {
   "cell_type": "markdown",
   "metadata": {},
   "source": [
    "## Considered Tools\n",
    "\n",
    "### Gephi \n",
    "\n",
    "While Gephi has provided useful for data exploration, some difficulties arised. In particular, many of the core functions[[7](https://github.com/jaroslav-kuchar/Social-Network-Analysis/issues/2)] and plugins[[8](https://github.com/gephi/gephi/issues/1481)] once used for social network analysis are not compatible with current (0.9) software versions. Gephi specifications note that the 0.9.0 version (December 2015) \"Removed [the] Clustering module\"[[9](https://github.com/gephi/gephi/releases/tag/v0.9.0)] that these plugins relied upon."
   ]
  },
  {
   "cell_type": "markdown",
   "metadata": {},
   "source": [
    "### Python-igraph \n",
    "\n",
    "[Python-igraph](http://igraph.org/python/) (igraph hereafter) allows a user to import graphs in a variety of file formats, several of which match Gephi's export options. Brief tests demonstrated that the [GraphML](http://graphml.graphdrawing.org/) format was most successful for a workflow of transferring networks from Gephi to igraph. (Attempt to import [GML](https://en.wikipedia.org/wiki/Graph_Modelling_Language) and [Pajek](http://mrvar.fdv.uni-lj.si/pajek/) caused one instance of Python to hang; further investigation would be required to identify a cause.) The following examples use [GraphML files](https://mega.nz/#F!Dpdh2TjD!4Rd462mFXbdFn5Scs1WwUA) exported from Gephi."
   ]
  },
  {
   "cell_type": "markdown",
   "metadata": {},
   "source": [
    "## Network Definition "
   ]
  },
  {
   "cell_type": "code",
   "execution_count": 21,
   "metadata": {
    "collapsed": false,
    "deletable": true,
    "editable": true
   },
   "outputs": [
    {
     "name": "stdout",
     "output_type": "stream",
     "text": [
      "IGRAPH D-W- 9793 6463 -- Full Disclosure network\n",
      "+ attr: name (g), Color (v), Label1 (v), Label2 (v), b (v), g (v), id (v), label (v), nodeType (v), r (v), size (v), x (v), y (v), Edge Label (e), id (e), weight (e)\n"
     ]
    }
   ],
   "source": [
    "# GraphML files may be imported into igraph with a single command (`Read_GraphML`) and then analyzed:\n",
    "from igraph import Graph\n",
    "# import the GraphML files previously exported from Gephi\n",
    "ml = Graph.Read_GraphML('data/2008.graphml')\n",
    "\n",
    "ml['name'] = 'Full Disclosure network'\n",
    "# summary reports the edges, nodes, and overall attributes in use. \n",
    "summary(ml)"
   ]
  },
  {
   "cell_type": "markdown",
   "metadata": {
    "deletable": true,
    "editable": true
   },
   "source": [
    "The summary command providing the output seen above is explained in the igraph documentation[[10](http://igraph.org/python/doc/igraph.summary'.GraphSummary-class.html)]. In this example, the four-character code \"D-W-\" indicates that the graph is directed and weighted. The graph has 984 vertices (nodes) and 758 edges. \n",
    "\n",
    "The attributes given in the summary (\"name\", \"Color\", etc.) are those for the graph (g), vertices (v), or edges (e)."
   ]
  },
  {
   "cell_type": "code",
   "execution_count": 16,
   "metadata": {
    "collapsed": false,
    "deletable": true,
    "editable": true
   },
   "outputs": [
    {
     "name": "stdout",
     "output_type": "stream",
     "text": [
      "ID list of first two vertices in network:\n",
      "['andur matrix <andurmatrix () gmail com>', 'Adam Muntner <adam.muntner () quietmove com>']\n"
     ]
    }
   ],
   "source": [
    "# show the id attribute of the first 2 vertices\n",
    "print('ID list of first two vertices in network:')\n",
    "print(ml.vs[0:2]['id'])\n"
   ]
  },
  {
   "cell_type": "markdown",
   "metadata": {},
   "source": [
    "Nodes can either be **authors** as shown above, or **e-mail threads** (in which case their identifier is the year, month and relative id for the given month)."
   ]
  },
  {
   "cell_type": "code",
   "execution_count": 14,
   "metadata": {
    "collapsed": false
   },
   "outputs": [
    {
     "name": "stdout",
     "output_type": "stream",
     "text": [
      "\n",
      "IDs of vertices with highest degree: ['security () mandriva com']\n"
     ]
    }
   ],
   "source": [
    "# identify vertices with the highest degree and betweenness\n",
    "# (This sample is borrowed directly from the tutorial!)\n",
    "\n",
    "print('\\nIDs of vertices with highest degree:', ml.vs.select(_degree = ml.maxdegree())['id'])"
   ]
  },
  {
   "cell_type": "markdown",
   "metadata": {},
   "source": [
    "It is often common that higher degree nodes (those who post several e-mail replies in e-mail threads) are advisories, and do not really communicate. We can clearly see that the author above, by his e-mail, is clearly a research group in the mailing list, and those are more related to advisories per our manual observations. "
   ]
  },
  {
   "cell_type": "markdown",
   "metadata": {
    "deletable": true,
    "editable": true
   },
   "source": [
    "## Full Disclosure Visualization over Years \n",
    "\n",
    "The GraphML files from Gephi include the ids as _labels_, and so they are included by default when igraph creates visualizations. These may be eliminated by deleting the attribute.\n",
    "\n",
    "Igraph handles visualization through _layouts_. Layouts are separate objects from the graphs themselves; multiple layouts can be created per graph.\n",
    "\n",
    "Visual graphs are created via `plot` commands, however it demands too much time to render, and visualization is deferred to gephi and them edited on an image editor and assembled as a gif of 5s delay for easier visualization:"
   ]
  },
  {
   "cell_type": "code",
   "execution_count": 20,
   "metadata": {
    "collapsed": false,
    "deletable": true,
    "editable": true
   },
   "outputs": [],
   "source": [
    "# import the GraphML files previously exported from Gephi\n",
    "# delete label attributes to avoid visual clutter. In this example, the 'label'\n",
    "# attribute is a duplicate of the 'ID' attribute so there is no need to save the label\n",
    "#del ml.vs['label']\n",
    "\n",
    "#layout = ml.layout_graphopt() # create a Fruchterman Reingold layout for the graph\n",
    "\n",
    "#png = plot(ml, 'output/plot.png', layout=layout, bbox=(1000,1000), margin=100,\n",
    "#           edge_curved=True)  # the bbox keyword argument defines the dimensions\n",
    "\n"
   ]
  },
  {
   "cell_type": "markdown",
   "metadata": {
    "deletable": true,
    "editable": true
   },
   "source": [
    "The resulting graphic provides a visual overview of the FD 2016 network:\n",
    "\n",
    "![An igraph-generated FD graph for 2016](https://github.com/sailuh/perceive/raw/master/Websites/Project/fulldisclosure_nooverlap_curved.gif)\n",
    "\n"
   ]
  },
  {
   "cell_type": "markdown",
   "metadata": {},
   "source": [
    "We can observe that the network structure varies considerably across the years. This provides an opportunity to partition a network at a given year into several clusters and investigate if the visualized structure has any association to the textual content of a given **e-mail thread** discussion.\n",
    "\n",
    "If such association exists, then we can leverage the **social network structure** in order to simplify the identification of emerging concepts through text alone. For instance, identifying a group of individuals have preference to certain subjects, or are spammers may become a trivial pre-processing stage before textual content is analyzed for emerging concepts.\n",
    "\n",
    "We begin by considering 2 methods to more precisely define how to partition a network at any given year: \n",
    "\n",
    " * Community Detection \n",
    " * Betweness Centrality"
   ]
  },
  {
   "cell_type": "markdown",
   "metadata": {},
   "source": [
    "# Community Detection"
   ]
  },
  {
   "cell_type": "markdown",
   "metadata": {},
   "source": [
    "Some of the community measures do not support directed graphs, as seen in the warning message below, but the direction can be removed to compare the results of igraph's community funtions."
   ]
  },
  {
   "cell_type": "code",
   "execution_count": 23,
   "metadata": {
    "collapsed": false
   },
   "outputs": [
    {
     "name": "stderr",
     "output_type": "stream",
     "text": [
      "/Library/Frameworks/Python.framework/Versions/3.6/lib/python3.6/site-packages/igraph/__init__.py:1072: RuntimeWarning: This method was developed for undirected graphs at community.c:1565\n",
      "  membership, _, q = GraphBase.community_leading_eigenvector(self, clusters, **kwds)\n"
     ]
    }
   ],
   "source": [
    "com = ml.community_leading_eigenvector(weights='weight', clusters=3)"
   ]
  },
  {
   "cell_type": "code",
   "execution_count": 25,
   "metadata": {
    "collapsed": false
   },
   "outputs": [
    {
     "name": "stdout",
     "output_type": "stream",
     "text": [
      "clustering attempt, leading eigenvector:\n",
      "Clustering with 9793 elements and 4708 clusters\n"
     ]
    }
   ],
   "source": [
    "ml.to_undirected() # eliminate the directionality\n",
    "\n",
    "com = ml.community_leading_eigenvector(clusters=3)\n",
    "print('clustering attempt, leading eigenvector:')\n",
    "summary(com)"
   ]
  },
  {
   "cell_type": "markdown",
   "metadata": {},
   "source": [
    "A more detailed look at the eigenvector clusters follows in two parts. First, a listing of the overall cluster contents:"
   ]
  },
  {
   "cell_type": "code",
   "execution_count": 26,
   "metadata": {
    "collapsed": false
   },
   "outputs": [
    {
     "name": "stdout",
     "output_type": "stream",
     "text": [
      "4708 clusters.\n",
      "maximum size: 3468\n",
      "minimum size: 1\n",
      "\n",
      "Summary of first 20 clusters:\n",
      "[0] has size of 2. Vertices: [0, 2438] \n",
      "[1] has size of 3468. Vertices: [1, 2, 4, 5, 6] (and 3463 more)\n",
      "[2] has size of 14. Vertices: [3, 2442, 2760, 3090, 3420] (and 9 more)\n",
      "[3] has size of 1. Vertices: [12] \n",
      "[4] has size of 3. Vertices: [16, 2448, 2991] \n",
      "[5] has size of 6. Vertices: [28, 9556, 9577, 9607, 9652] (and 1 more)\n",
      "[6] has size of 2. Vertices: [37, 2462] \n",
      "[7] has size of 2. Vertices: [40, 2465] \n",
      "[8] has size of 256. Vertices: [41, 1188, 2466, 2473, 2629] (and 251 more)\n",
      "[9] has size of 2. Vertices: [42, 2467] \n",
      "[10] has size of 6. Vertices: [43, 2468, 2540, 3605, 3906] (and 1 more)\n",
      "[11] has size of 42. Vertices: [45, 3563, 3697, 3766, 7104] (and 37 more)\n",
      "[12] has size of 2. Vertices: [48, 2474] \n",
      "[13] has size of 7. Vertices: [52, 2315, 7281, 7334, 8441] (and 2 more)\n",
      "[14] has size of 4. Vertices: [53, 2480, 3767, 8200] \n",
      "[15] has size of 1. Vertices: [55] \n",
      "[16] has size of 1. Vertices: [56] \n",
      "[17] has size of 1. Vertices: [58] \n",
      "[18] has size of 1. Vertices: [63] \n"
     ]
    }
   ],
   "source": [
    "print(len(com), 'clusters.')\n",
    "print('maximum size:', len(max(com, key=len)))\n",
    "print('minimum size:', len(min(com, key=len)))\n",
    "\n",
    "print('\\nSummary of first 20 clusters:')\n",
    "for i in range(19):\n",
    "    etc = ''\n",
    "    if len(com[i]) > 5:\n",
    "        etc += '(and ' + str(len(com[i]) - 5) + ' more)'\n",
    "    print('[{}] has size of {}. Vertices: {} {}'.format(i, len(com[i]), com[i][0:5], etc))"
   ]
  },
  {
   "cell_type": "markdown",
   "metadata": {},
   "source": [
    "Second, a report of the first 10 communities' node types and labels:"
   ]
  },
  {
   "cell_type": "code",
   "execution_count": 29,
   "metadata": {
    "collapsed": false
   },
   "outputs": [
    {
     "name": "stdout",
     "output_type": "stream",
     "text": [
      "COMMUNITY 0   ( total size: 2 )\n",
      "\t author :\t andur matrix <andurmatrix () gmail com>\n",
      "\t document :\t Re: [OOT] Thesis for master degree\n",
      "\n",
      "COMMUNITY 1   ( total size: 3468 )\n",
      "\t author :\t Adam Muntner <adam.muntner () quietmove com>\n",
      "\t author :\t Denzity <denzity () gmail com>\n",
      "\t author :\t Marcin Wielgoszewski <marcinw86 () gmail com>\n",
      "\t author :\t Geo. <geoincidents () nls net>\n",
      "\t author :\t coderman <coderman () gmail com>\n",
      "\t author :\t reepex <reepex () gmail com>\n",
      "\t author :\t Javor Ninov <drfrancky () securax org>\n",
      "\t author :\t SilentRunner <silentrunner () hushmail com>\n",
      "\t author :\t php0t <php0t () zorro hu>\n",
      "\t author :\t Simon Smith <simon () snosoft com>\n",
      "\t... TRUNCATED LISTING\n",
      "\n",
      "COMMUNITY 2   ( total size: 14 )\n",
      "\t author :\t Matousec - Transparent security Research <research () matousec com>\n",
      "\t document :\t Kerio Fake 'iphlpapi' DLL injection Vulnerability\n",
      "\t document :\t Outpost Bypassing Self-Protection using file\tlinks Vulnerability\n",
      "\t document :\t Comodo Multiple insufficient argument validation of hooked SSDT function Vulnerability\n",
      "\t document :\t Comodo DLL injection via weak hash function\texploitation Vulnerability\n",
      "\t document :\t Comodo Bypassing settings protection using magic\tpipe Vulnerability\n",
      "\t document :\t Norton Insufficient validation of 'SymTDI' driver\tinput buffer\n",
      "\t document :\t Norton Multiple insufficient argument validation of hooked SSDT function Vulnerability\n",
      "\t document :\t ZoneAlarm Multiple insufficient argument validation of hooked SSDT function Vulnerability\n",
      "\t document :\t ZoneAlarm Insufficient validation of 'vsdatant' driver input buffer Vulnerability\n",
      "\t... TRUNCATED LISTING\n",
      "\n",
      "COMMUNITY 3   ( total size: 1 )\n",
      "\t author :\t veda <lasveda () gmail com>\n",
      "\n",
      "COMMUNITY 4   ( total size: 3 )\n",
      "\t author :\t Sebastian Wolfgarten <sebastian.wolfgarten () gmx net>\n",
      "\t document :\t Security contact at TrendMicro\n",
      "\t document :\t Buffer overflow in VSAPI library of Trend Micro\tVirusWall 3.81 for Linux\n",
      "\n",
      "COMMUNITY 5   ( total size: 6 )\n",
      "\t author :\t secreview <secreview () hushmail com>\n",
      "\t document :\t [Professional IT Security Providers - Exposed]\tCyberklix ( F+ )\n",
      "\t document :\t [Professional IT Security Providers - Exposed]\tDenim Group ( A - )\n",
      "\t document :\t [Professional IT Security Providers - Exposed] Audit Serve, Inc. ( F- )\n",
      "\t document :\t [Professional IT Security Providers - Exposed]\tCybertrust ( C + )\n",
      "\t document :\t [Professional IT Security Providers - Exposed]\tQuietMove ( D - )\n",
      "\n",
      "COMMUNITY 6   ( total size: 2 )\n",
      "\t author :\t xploitzz <xploitzz () gmail com>\n",
      "\t document :\t Vista Reduced Function mode\ttriggered&In-Reply-To=AA4FD01470854D4F91BD71B19138DD41@control3\n",
      "\n",
      "COMMUNITY 7   ( total size: 2 )\n",
      "\t author :\t Tal Argoni <moskito () 012 net il>\n",
      "\t document :\t Inforamtion Discloser Vulnerabilities in\t\"phpMyAdmin\"\n",
      "\n",
      "COMMUNITY 8   ( total size: 256 )\n",
      "\t author :\t security () mandriva com\n",
      "\t author :\t Jeroen Massar <jeroen () unfix org>\n",
      "\t document :\t [ MDKSA-2007:001 ] - Update libmodplug packages\tfix buffer overflow vulnerabilities\n",
      "\t document :\t [ MDKSA-2007:002 ] - Updated kernel packages fix\tmultiple vulnerabilities and bugs\n",
      "\t document :\t [ MDKSA-2007:003 ] - Updated avahi packages fix\tDoS vulnerability\n",
      "\t document :\t [ MDKSA-2007:004 ] - Updated geoip packages fix\tgeoipupdate vulnerability\n",
      "\t document :\t [ MDKSA-2007-005 ] - Updated xorg-x11/XFree86\tpackages fix integer overflow vulnerabilities\n",
      "\t document :\t [ MDKSA-2007:006 ] - Updated OpenOffice.org\tpackages fix WMF vulnerability\n",
      "\t document :\t [ MDKSA-2007:007 ] - Updated nvidia driver\tpackages fix vulnerability\n",
      "\t document :\t [ MDKSA-2007:008 ] - Updated kerberos packages\tfix vulnerability\n",
      "\t... TRUNCATED LISTING\n",
      "\n",
      "COMMUNITY 9   ( total size: 2 )\n",
      "\t author :\t <sftsi () hushmail com>\n",
      "\t document :\t It's all in the details, sapheal\n",
      "\n"
     ]
    }
   ],
   "source": [
    "for i in range(10):\n",
    "    print('COMMUNITY', i, '  ( total size:', len(com[i]), ')')\n",
    "    for _ in com[i][0:10]:\n",
    "        print('\\t', ml.vs[_]['nodeType'], ':\\t', ml.vs[_]['label'])\n",
    "    if len(com[i]) > 10:\n",
    "        print('\\t... TRUNCATED LISTING')\n",
    "    print()"
   ]
  },
  {
   "cell_type": "markdown",
   "metadata": {},
   "source": [
    "# Betweenness Centrality\n",
    "\n",
    "Igraph betweenness measures, like the clustering algorithms, require undirected graphs. Betweenness is returned as a simple list of values."
   ]
  },
  {
   "cell_type": "code",
   "execution_count": 52,
   "metadata": {
    "collapsed": false
   },
   "outputs": [],
   "source": [
    "bc = ml.betweenness()\n",
    "bc.sort(reverse=True);"
   ]
  },
  {
   "cell_type": "code",
   "execution_count": 62,
   "metadata": {
    "collapsed": false
   },
   "outputs": [
    {
     "name": "stdout",
     "output_type": "stream",
     "text": [
      "Node 0 : 100%\n",
      "Node 1 : 47%\n",
      "Node 2 : 36%\n",
      "Node 3 : 34%\n",
      "Node 4 : 33%\n",
      "Node 5 : 32%\n",
      "Node 6 : 32%\n",
      "Node 7 : 32%\n",
      "Node 8 : 31%\n",
      "Node 9 : 31%\n",
      "Node 10 : 30%\n",
      "Node 11 : 30%\n",
      "Node 12 : 29%\n",
      "Node 13 : 29%\n",
      "Node 14 : 27%\n",
      "Node 15 : 22%\n",
      "Node 16 : 18%\n"
     ]
    }
   ],
   "source": [
    "max_bc = max(bc)\n",
    "bc_normalized = [x / max_bc for x in bc]\n",
    "\n",
    "for idx,val in enumerate(bc_normalized[0:17]):\n",
    "    print('Node',idx,':',\"{:.0%}\".format(bc_normalized[idx]))"
   ]
  },
  {
   "cell_type": "markdown",
   "metadata": {},
   "source": [
    "We can observe that the betweeness centrality quickly drops past the 16th node, which may indicate nodes that often discuss different subjects for contributing e-mail discussions for different \"community of threads\". "
   ]
  }
 ],
 "metadata": {
  "kernelspec": {
   "display_name": "Python 3",
   "language": "python",
   "name": "python3"
  },
  "language_info": {
   "codemirror_mode": {
    "name": "ipython",
    "version": 3
   },
   "file_extension": ".py",
   "mimetype": "text/x-python",
   "name": "python",
   "nbconvert_exporter": "python",
   "pygments_lexer": "ipython3",
   "version": "3.6.0"
  }
 },
 "nbformat": 4,
 "nbformat_minor": 2
}
